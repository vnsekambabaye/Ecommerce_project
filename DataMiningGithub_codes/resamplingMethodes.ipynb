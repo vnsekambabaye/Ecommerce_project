{
 "cells": [
  {
   "cell_type": "markdown",
   "id": "5a96e572-0d9b-41ec-94de-7f3fa6652f13",
   "metadata": {},
   "source": [
    "# Resampling Methods\n"
   ]
  },
  {
   "cell_type": "markdown",
   "id": "10cdff49-1fba-485a-992f-eb8c198740bd",
   "metadata": {},
   "source": [
    "## 5.3 Lab: Cross-Validation and the Bootstrap"
   ]
  },
  {
   "cell_type": "code",
   "execution_count": 1,
   "id": "12e797cd-2014-44aa-a46e-e85233013701",
   "metadata": {},
   "outputs": [],
   "source": [
    "import numpy as np\n",
    "import statsmodels.api as sm\n",
    "from ISLP import load_data\n",
    "from ISLP.models import (ModelSpec as MS ,\n",
    "summarize ,\n",
    "poly)\n",
    "from sklearn.model_selection import train_test_split"
   ]
  },
  {
   "cell_type": "code",
   "execution_count": 2,
   "id": "230f80c6-77a9-4a5e-a4cb-a55212dd0c5b",
   "metadata": {},
   "outputs": [],
   "source": [
    "from functools import partial\n",
    "from sklearn.model_selection import \\\n",
    "(cross_validate ,\n",
    "KFold ,\n",
    "ShuffleSplit)\n",
    "from sklearn.base import clone\n",
    "from ISLP.models import sklearn_sm"
   ]
  },
  {
   "cell_type": "markdown",
   "id": "2bb5a6d9-2218-4b0f-a872-2336fc5e3881",
   "metadata": {},
   "source": [
    "## 5.3.1 The Validation Set Approach"
   ]
  },
  {
   "cell_type": "code",
   "execution_count": 3,
   "id": "39a7fc3f-5786-461f-9ce1-a0817826e883",
   "metadata": {},
   "outputs": [
    {
     "data": {
      "text/html": [
       "<div>\n",
       "<style scoped>\n",
       "    .dataframe tbody tr th:only-of-type {\n",
       "        vertical-align: middle;\n",
       "    }\n",
       "\n",
       "    .dataframe tbody tr th {\n",
       "        vertical-align: top;\n",
       "    }\n",
       "\n",
       "    .dataframe thead th {\n",
       "        text-align: right;\n",
       "    }\n",
       "</style>\n",
       "<table border=\"1\" class=\"dataframe\">\n",
       "  <thead>\n",
       "    <tr style=\"text-align: right;\">\n",
       "      <th></th>\n",
       "      <th>mpg</th>\n",
       "      <th>cylinders</th>\n",
       "      <th>displacement</th>\n",
       "      <th>horsepower</th>\n",
       "      <th>weight</th>\n",
       "      <th>acceleration</th>\n",
       "      <th>year</th>\n",
       "      <th>origin</th>\n",
       "      <th>name</th>\n",
       "    </tr>\n",
       "  </thead>\n",
       "  <tbody>\n",
       "    <tr>\n",
       "      <th>0</th>\n",
       "      <td>18.0</td>\n",
       "      <td>8</td>\n",
       "      <td>307.0</td>\n",
       "      <td>130</td>\n",
       "      <td>3504</td>\n",
       "      <td>12.0</td>\n",
       "      <td>70</td>\n",
       "      <td>1</td>\n",
       "      <td>chevrolet chevelle malibu</td>\n",
       "    </tr>\n",
       "    <tr>\n",
       "      <th>1</th>\n",
       "      <td>15.0</td>\n",
       "      <td>8</td>\n",
       "      <td>350.0</td>\n",
       "      <td>165</td>\n",
       "      <td>3693</td>\n",
       "      <td>11.5</td>\n",
       "      <td>70</td>\n",
       "      <td>1</td>\n",
       "      <td>buick skylark 320</td>\n",
       "    </tr>\n",
       "    <tr>\n",
       "      <th>2</th>\n",
       "      <td>18.0</td>\n",
       "      <td>8</td>\n",
       "      <td>318.0</td>\n",
       "      <td>150</td>\n",
       "      <td>3436</td>\n",
       "      <td>11.0</td>\n",
       "      <td>70</td>\n",
       "      <td>1</td>\n",
       "      <td>plymouth satellite</td>\n",
       "    </tr>\n",
       "    <tr>\n",
       "      <th>3</th>\n",
       "      <td>16.0</td>\n",
       "      <td>8</td>\n",
       "      <td>304.0</td>\n",
       "      <td>150</td>\n",
       "      <td>3433</td>\n",
       "      <td>12.0</td>\n",
       "      <td>70</td>\n",
       "      <td>1</td>\n",
       "      <td>amc rebel sst</td>\n",
       "    </tr>\n",
       "    <tr>\n",
       "      <th>4</th>\n",
       "      <td>17.0</td>\n",
       "      <td>8</td>\n",
       "      <td>302.0</td>\n",
       "      <td>140</td>\n",
       "      <td>3449</td>\n",
       "      <td>10.5</td>\n",
       "      <td>70</td>\n",
       "      <td>1</td>\n",
       "      <td>ford torino</td>\n",
       "    </tr>\n",
       "    <tr>\n",
       "      <th>...</th>\n",
       "      <td>...</td>\n",
       "      <td>...</td>\n",
       "      <td>...</td>\n",
       "      <td>...</td>\n",
       "      <td>...</td>\n",
       "      <td>...</td>\n",
       "      <td>...</td>\n",
       "      <td>...</td>\n",
       "      <td>...</td>\n",
       "    </tr>\n",
       "    <tr>\n",
       "      <th>392</th>\n",
       "      <td>27.0</td>\n",
       "      <td>4</td>\n",
       "      <td>140.0</td>\n",
       "      <td>86</td>\n",
       "      <td>2790</td>\n",
       "      <td>15.6</td>\n",
       "      <td>82</td>\n",
       "      <td>1</td>\n",
       "      <td>ford mustang gl</td>\n",
       "    </tr>\n",
       "    <tr>\n",
       "      <th>393</th>\n",
       "      <td>44.0</td>\n",
       "      <td>4</td>\n",
       "      <td>97.0</td>\n",
       "      <td>52</td>\n",
       "      <td>2130</td>\n",
       "      <td>24.6</td>\n",
       "      <td>82</td>\n",
       "      <td>2</td>\n",
       "      <td>vw pickup</td>\n",
       "    </tr>\n",
       "    <tr>\n",
       "      <th>394</th>\n",
       "      <td>32.0</td>\n",
       "      <td>4</td>\n",
       "      <td>135.0</td>\n",
       "      <td>84</td>\n",
       "      <td>2295</td>\n",
       "      <td>11.6</td>\n",
       "      <td>82</td>\n",
       "      <td>1</td>\n",
       "      <td>dodge rampage</td>\n",
       "    </tr>\n",
       "    <tr>\n",
       "      <th>395</th>\n",
       "      <td>28.0</td>\n",
       "      <td>4</td>\n",
       "      <td>120.0</td>\n",
       "      <td>79</td>\n",
       "      <td>2625</td>\n",
       "      <td>18.6</td>\n",
       "      <td>82</td>\n",
       "      <td>1</td>\n",
       "      <td>ford ranger</td>\n",
       "    </tr>\n",
       "    <tr>\n",
       "      <th>396</th>\n",
       "      <td>31.0</td>\n",
       "      <td>4</td>\n",
       "      <td>119.0</td>\n",
       "      <td>82</td>\n",
       "      <td>2720</td>\n",
       "      <td>19.4</td>\n",
       "      <td>82</td>\n",
       "      <td>1</td>\n",
       "      <td>chevy s-10</td>\n",
       "    </tr>\n",
       "  </tbody>\n",
       "</table>\n",
       "<p>397 rows × 9 columns</p>\n",
       "</div>"
      ],
      "text/plain": [
       "      mpg  cylinders  displacement horsepower  weight  acceleration  year  \\\n",
       "0    18.0          8         307.0        130    3504          12.0    70   \n",
       "1    15.0          8         350.0        165    3693          11.5    70   \n",
       "2    18.0          8         318.0        150    3436          11.0    70   \n",
       "3    16.0          8         304.0        150    3433          12.0    70   \n",
       "4    17.0          8         302.0        140    3449          10.5    70   \n",
       "..    ...        ...           ...        ...     ...           ...   ...   \n",
       "392  27.0          4         140.0         86    2790          15.6    82   \n",
       "393  44.0          4          97.0         52    2130          24.6    82   \n",
       "394  32.0          4         135.0         84    2295          11.6    82   \n",
       "395  28.0          4         120.0         79    2625          18.6    82   \n",
       "396  31.0          4         119.0         82    2720          19.4    82   \n",
       "\n",
       "     origin                       name  \n",
       "0         1  chevrolet chevelle malibu  \n",
       "1         1          buick skylark 320  \n",
       "2         1         plymouth satellite  \n",
       "3         1              amc rebel sst  \n",
       "4         1                ford torino  \n",
       "..      ...                        ...  \n",
       "392       1            ford mustang gl  \n",
       "393       2                  vw pickup  \n",
       "394       1              dodge rampage  \n",
       "395       1                ford ranger  \n",
       "396       1                 chevy s-10  \n",
       "\n",
       "[397 rows x 9 columns]"
      ]
     },
     "execution_count": 3,
     "metadata": {},
     "output_type": "execute_result"
    }
   ],
   "source": [
    "import numpy as np\n",
    "import pandas as pd\n",
    "Auto = pd.read_csv(r\"C:\\Users\\user\\OneDrive\\Desktop\\Data_Mining_Docs\\ALL_CSV_FILES\\Auto.csv\")\n",
    "Auto\n"
   ]
  },
  {
   "cell_type": "code",
   "execution_count": 4,
   "id": "a1bc0ea2-9a93-4c26-bde1-f09474af033e",
   "metadata": {},
   "outputs": [],
   "source": [
    "Auto_train , Auto_valid = train_test_split(Auto ,\n",
    "test_size =196,\n",
    "random_state =0)"
   ]
  },
  {
   "cell_type": "code",
   "execution_count": 5,
   "id": "04419822-16d6-4fbb-b7c9-c2fa15d5e10e",
   "metadata": {},
   "outputs": [],
   "source": [
    "import numpy as np\n",
    "import pandas as pd\n",
    "from ISLP.models import ModelSpec as MS\n",
    "import statsmodels.api as sm"
   ]
  },
  {
   "cell_type": "code",
   "execution_count": 6,
   "id": "d3bd5440-679e-4a74-8a83-17339bdbce3f",
   "metadata": {},
   "outputs": [],
   "source": [
    "Auto_train['horsepower'] = Auto_train['horsepower'].replace('?', np.nan)\n",
    "Auto_train = Auto_train.dropna(subset=['horsepower', 'mpg'])\n",
    "Auto_train['horsepower'] = Auto_train['horsepower'].astype(float)\n",
    "Auto_train['mpg'] = Auto_train['mpg'].astype(float)"
   ]
  },
  {
   "cell_type": "code",
   "execution_count": 7,
   "id": "7590c849-f38c-45b5-9136-f33d4f236214",
   "metadata": {},
   "outputs": [
    {
     "name": "stdout",
     "output_type": "stream",
     "text": [
      "                            OLS Regression Results                            \n",
      "==============================================================================\n",
      "Dep. Variable:                    mpg   R-squared:                       0.629\n",
      "Model:                            OLS   Adj. R-squared:                  0.627\n",
      "Method:                 Least Squares   F-statistic:                     331.8\n",
      "Date:                Thu, 19 Jun 2025   Prob (F-statistic):           4.99e-44\n",
      "Time:                        12:46:01   Log-Likelihood:                -587.00\n",
      "No. Observations:                 198   AIC:                             1178.\n",
      "Df Residuals:                     196   BIC:                             1185.\n",
      "Df Model:                           1                                         \n",
      "Covariance Type:            nonrobust                                         \n",
      "==============================================================================\n",
      "                 coef    std err          t      P>|t|      [0.025      0.975]\n",
      "------------------------------------------------------------------------------\n",
      "intercept     40.3783      0.996     40.558      0.000      38.415      42.342\n",
      "horsepower    -0.1637      0.009    -18.214      0.000      -0.181      -0.146\n",
      "==============================================================================\n",
      "Omnibus:                       11.955   Durbin-Watson:                   2.260\n",
      "Prob(Omnibus):                  0.003   Jarque-Bera (JB):               12.528\n",
      "Skew:                           0.609   Prob(JB):                      0.00190\n",
      "Kurtosis:                       3.192   Cond. No.                         329.\n",
      "==============================================================================\n",
      "\n",
      "Notes:\n",
      "[1] Standard Errors assume that the covariance matrix of the errors is correctly specified.\n"
     ]
    }
   ],
   "source": [
    "\n",
    "hp_mm = MS(['horsepower'])\n",
    "X_train = hp_mm.fit_transform(Auto_train)\n",
    "X_train = pd.DataFrame(X_train).astype(float)\n",
    "y_train = Auto_train['mpg'].astype(float)\n",
    "model = sm.OLS(y_train, X_train)\n",
    "results = model.fit()\n",
    "print(results.summary())\n"
   ]
  },
  {
   "cell_type": "code",
   "execution_count": 8,
   "id": "e97e0658-2318-40bc-bb4e-766edcd27b67",
   "metadata": {},
   "outputs": [
    {
     "name": "stdout",
     "output_type": "stream",
     "text": [
      "Validation MSE: 26.074984326829124\n"
     ]
    }
   ],
   "source": [
    "import numpy as np\n",
    "\n",
    "Auto_valid['horsepower'] = Auto_valid['horsepower'].replace('?', np.nan)\n",
    "Auto_valid = Auto_valid.dropna(subset=['horsepower', 'mpg'])\n",
    "Auto_valid['horsepower'] = Auto_valid['horsepower'].astype(float)\n",
    "Auto_valid['mpg'] = Auto_valid['mpg'].astype(float)\n",
    "X_valid = hp_mm.transform(Auto_valid)\n",
    "X_valid = np.array(X_valid).astype(float)\n",
    "y_valid = Auto_valid['mpg'].astype(float)\n",
    "valid_pred = results.predict(X_valid)\n",
    "mse = np.mean((y_valid - valid_pred) ** 2)\n",
    "print(\"Validation MSE:\", mse)"
   ]
  },
  {
   "cell_type": "code",
   "execution_count": 9,
   "id": "de6d9110-e3b9-4dbf-9f38-c756d7514d61",
   "metadata": {},
   "outputs": [
    {
     "name": "stdout",
     "output_type": "stream",
     "text": [
      "                            OLS Regression Results                            \n",
      "==============================================================================\n",
      "Dep. Variable:                    mpg   R-squared:                       0.629\n",
      "Model:                            OLS   Adj. R-squared:                  0.627\n",
      "Method:                 Least Squares   F-statistic:                     331.8\n",
      "Date:                Thu, 19 Jun 2025   Prob (F-statistic):           4.99e-44\n",
      "Time:                        12:46:01   Log-Likelihood:                -587.00\n",
      "No. Observations:                 198   AIC:                             1178.\n",
      "Df Residuals:                     196   BIC:                             1185.\n",
      "Df Model:                           1                                         \n",
      "Covariance Type:            nonrobust                                         \n",
      "==============================================================================\n",
      "                 coef    std err          t      P>|t|      [0.025      0.975]\n",
      "------------------------------------------------------------------------------\n",
      "intercept     40.3783      0.996     40.558      0.000      38.415      42.342\n",
      "horsepower    -0.1637      0.009    -18.214      0.000      -0.181      -0.146\n",
      "==============================================================================\n",
      "Omnibus:                       11.955   Durbin-Watson:                   2.260\n",
      "Prob(Omnibus):                  0.003   Jarque-Bera (JB):               12.528\n",
      "Skew:                           0.609   Prob(JB):                      0.00190\n",
      "Kurtosis:                       3.192   Cond. No.                         329.\n",
      "==============================================================================\n",
      "\n",
      "Notes:\n",
      "[1] Standard Errors assume that the covariance matrix of the errors is correctly specified.\n",
      "Validation MSE: 26.074984326829124\n"
     ]
    }
   ],
   "source": [
    "\n",
    "import numpy as np\n",
    "import pandas as pd\n",
    "from ISLP.models import ModelSpec as MS\n",
    "import statsmodels.api as sm\n",
    "\n",
    "# --- 1. Clean training data ---\n",
    "Auto_train['horsepower'] = Auto_train['horsepower'].replace('?', np.nan)\n",
    "Auto_train = Auto_train.dropna(subset=['horsepower', 'mpg'])\n",
    "Auto_train['horsepower'] = Auto_train['horsepower'].astype(float)\n",
    "Auto_train['mpg'] = Auto_train['mpg'].astype(float)\n",
    "\n",
    "# --- 2. Prepare training features and response ---\n",
    "hp_mm = MS(['horsepower'])\n",
    "X_train = hp_mm.fit_transform(Auto_train)\n",
    "X_train = pd.DataFrame(X_train).astype(float)\n",
    "y_train = Auto_train['mpg'].astype(float)\n",
    "\n",
    "# --- 3. Fit OLS model ---\n",
    "model = sm.OLS(y_train, X_train)\n",
    "results = model.fit()\n",
    "print(results.summary())\n",
    "\n",
    "# --- 4. Clean validation data ---\n",
    "Auto_valid['horsepower'] = Auto_valid['horsepower'].replace('?', np.nan)\n",
    "Auto_valid = Auto_valid.dropna(subset=['horsepower', 'mpg'])\n",
    "Auto_valid['horsepower'] = Auto_valid['horsepower'].astype(float)\n",
    "Auto_valid['mpg'] = Auto_valid['mpg'].astype(float)\n",
    "\n",
    "# --- 5. Prepare validation features and response ---\n",
    "X_valid = hp_mm.transform(Auto_valid)\n",
    "X_valid = np.array(X_valid).astype(float)\n",
    "y_valid = Auto_valid['mpg'].astype(float)\n",
    "\n",
    "# --- 6. Predict and evaluate ---\n",
    "valid_pred = results.predict(X_valid)\n",
    "mse = np.mean((y_valid - valid_pred) ** 2)\n",
    "print(\"Validation MSE:\", mse)\n",
    "\n"
   ]
  },
  {
   "cell_type": "code",
   "execution_count": 10,
   "id": "ca85b1db-c11c-4dd0-9e94-6aa989dad7d4",
   "metadata": {},
   "outputs": [
    {
     "name": "stdout",
     "output_type": "stream",
     "text": [
      "Requirement already satisfied: patsy in c:\\python310\\lib\\site-packages (1.0.1)\n",
      "Requirement already satisfied: numpy>=1.4 in c:\\python310\\lib\\site-packages (from patsy) (1.26.4)\n",
      "Note: you may need to restart the kernel to use updated packages.\n"
     ]
    }
   ],
   "source": [
    "pip install patsy\n"
   ]
  },
  {
   "cell_type": "code",
   "execution_count": 11,
   "id": "5120fc5c-99da-4363-a413-91263737b504",
   "metadata": {},
   "outputs": [],
   "source": [
    "import numpy as np\n",
    "import statsmodels.api as sm\n",
    "from patsy import dmatrix\n",
    "\n",
    "def evalMSE(feature_exprs, target, train, valid):\n",
    "    X_train = dmatrix(feature_exprs[0], train)\n",
    "    X_valid = dmatrix(feature_exprs[0], valid)\n",
    "    \n",
    "    y_train = train[target]\n",
    "    y_valid = valid[target]\n",
    "    \n",
    "    model = sm.OLS(y_train, X_train).fit()\n",
    "    \n",
    "    y_pred = model.predict(X_valid)\n",
    "    \n",
    "    return np.mean((y_valid - y_pred)**2)\n"
   ]
  },
  {
   "cell_type": "code",
   "execution_count": 12,
   "id": "ff19f1f0-a437-4567-b344-8f4a9cca1753",
   "metadata": {},
   "outputs": [],
   "source": [
    "def poly(feature, degree):\n",
    "    if degree == 1:\n",
    "        return f\"{feature}\"\n",
    "    else:\n",
    "        return \" + \".join([f\"I({feature}**{d})\" for d in range(1, degree + 1)])\n",
    "\n",
    "\n"
   ]
  },
  {
   "cell_type": "code",
   "execution_count": 13,
   "id": "e83e18d4-fcd1-4c73-8415-0fa333b12c70",
   "metadata": {},
   "outputs": [
    {
     "data": {
      "text/plain": [
       "array([26.07498433, 20.36114057, 20.39102702])"
      ]
     },
     "execution_count": 13,
     "metadata": {},
     "output_type": "execute_result"
    }
   ],
   "source": [
    "MSE = np.zeros(3)\n",
    "for idx, degree in enumerate(range(1, 4)):\n",
    "    MSE[idx] = evalMSE([poly('horsepower', degree)],\n",
    "                       'mpg',\n",
    "                       Auto_train,\n",
    "                       Auto_valid)\n",
    "MSE\n"
   ]
  },
  {
   "cell_type": "code",
   "execution_count": 17,
   "id": "1a6685b2-beca-4255-b019-a5b29dfd25e6",
   "metadata": {},
   "outputs": [
    {
     "name": "stderr",
     "output_type": "stream",
     "text": [
      "C:\\Users\\user\\AppData\\Local\\Temp\\ipykernel_11684\\2965306591.py:6: SettingWithCopyWarning: \n",
      "A value is trying to be set on a copy of a slice from a DataFrame.\n",
      "Try using .loc[row_indexer,col_indexer] = value instead\n",
      "\n",
      "See the caveats in the documentation: https://pandas.pydata.org/pandas-docs/stable/user_guide/indexing.html#returning-a-view-versus-a-copy\n",
      "  Auto['horsepower'] = Auto['horsepower'].astype(float)\n",
      "C:\\Users\\user\\AppData\\Local\\Temp\\ipykernel_11684\\2965306591.py:7: SettingWithCopyWarning: \n",
      "A value is trying to be set on a copy of a slice from a DataFrame.\n",
      "Try using .loc[row_indexer,col_indexer] = value instead\n",
      "\n",
      "See the caveats in the documentation: https://pandas.pydata.org/pandas-docs/stable/user_guide/indexing.html#returning-a-view-versus-a-copy\n",
      "  Auto['mpg'] = Auto['mpg'].astype(float)\n"
     ]
    }
   ],
   "source": [
    "import numpy as np\n",
    "\n",
    "Auto['horsepower'] = Auto['horsepower'].replace('?', np.nan)\n",
    "Auto = Auto.dropna(subset=['horsepower'])\n",
    "\n",
    "Auto['horsepower'] = Auto['horsepower'].astype(float)\n",
    "Auto['mpg'] = Auto['mpg'].astype(float)"
   ]
  },
  {
   "cell_type": "code",
   "execution_count": 18,
   "id": "a189d4ec-a9f3-40bc-b907-fd488ad3d63c",
   "metadata": {},
   "outputs": [],
   "source": [
    "from patsy import dmatrix\n",
    "import statsmodels.api as sm\n",
    "import numpy as np\n",
    "\n",
    "def evalMSE(feature_exprs, target, train, valid):\n",
    "    X_train = dmatrix(feature_exprs[0], train, return_type='dataframe')\n",
    "    design_info = X_train.design_info\n",
    "    X_valid = dmatrix(design_info, valid, return_type='dataframe')\n",
    "\n",
    "    y_train = train[target]\n",
    "    y_valid = valid[target]\n",
    "\n",
    "    model = sm.OLS(y_train, X_train).fit()\n",
    "\n",
    "    y_pred = model.predict(X_valid)\n",
    "    return np.mean((y_valid - y_pred) ** 2)"
   ]
  },
  {
   "cell_type": "code",
   "execution_count": 19,
   "id": "bb006350-cad4-403c-b3af-0f9605cf476a",
   "metadata": {},
   "outputs": [
    {
     "data": {
      "text/plain": [
       "array([20.75540796, 16.94510676, 16.97437833])"
      ]
     },
     "execution_count": 19,
     "metadata": {},
     "output_type": "execute_result"
    }
   ],
   "source": [
    "from sklearn.model_selection import train_test_split\n",
    "import numpy as np\n",
    "\n",
    "Auto_train, Auto_valid = train_test_split(Auto, test_size=196, random_state=3)\n",
    "\n",
    "MSE = np.zeros(3)\n",
    "\n",
    "for idx, degree in enumerate(range(1, 4)):\n",
    "    MSE[idx] = evalMSE([poly('horsepower', degree)],\n",
    "                       'mpg',\n",
    "                       Auto_train,\n",
    "                       Auto_valid)\n",
    "\n",
    "MSE\n"
   ]
  },
  {
   "cell_type": "markdown",
   "id": "7a22c029-a56b-45f2-8779-3aabb859aebb",
   "metadata": {},
   "source": [
    "## 5.3.2 Cross-Validation"
   ]
  },
  {
   "cell_type": "code",
   "execution_count": 23,
   "id": "6991b7fa-c46f-43f5-a0c6-1e7d1f099cc4",
   "metadata": {},
   "outputs": [],
   "source": [
    "from sklearn.base import BaseEstimator, RegressorMixin\n",
    "import statsmodels.api as sm\n",
    "from patsy import dmatrix\n",
    "\n",
    "class StatsmodelsOLS(BaseEstimator, RegressorMixin):\n",
    "    def __init__(self, formula):\n",
    "        self.formula = formula\n",
    "\n",
    "    def fit(self, X, y):\n",
    "        X_design = dmatrix(self.formula, X, return_type='dataframe')\n",
    "        self.model_ = sm.OLS(y, X_design).fit()\n",
    "        self.design_info_ = X_design.design_info\n",
    "        return self\n",
    "\n",
    "    def predict(self, X):\n",
    "        X_design = dmatrix(self.design_info_, X, return_type='dataframe')\n",
    "        return self.model_.predict(X_design)\n",
    "\n",
    "    def score(self, X, y):\n",
    "        y_pred = self.predict(X)\n",
    "        return -((y - y_pred) ** 2).mean()  # Return negative MSE for cross_validate\n"
   ]
  },
  {
   "cell_type": "code",
   "execution_count": 24,
   "id": "8018a122-8ab6-4375-8fc6-c7259825c828",
   "metadata": {},
   "outputs": [
    {
     "data": {
      "text/plain": [
       "24.23151351792923"
      ]
     },
     "execution_count": 24,
     "metadata": {},
     "output_type": "execute_result"
    }
   ],
   "source": [
    "from sklearn.model_selection import cross_validate\n",
    "import numpy as np\n",
    "\n",
    "# Define model using horsepower as predictor\n",
    "hp_model = StatsmodelsOLS(\"horsepower\")\n",
    "\n",
    "# X and Y setup\n",
    "X = Auto.drop(columns=['mpg'])\n",
    "Y = Auto['mpg']\n",
    "\n",
    "# LOOCV (Leave-One-Out Cross-Validation)\n",
    "cv_results = cross_validate(hp_model, X, Y, cv=X.shape[0])\n",
    "\n",
    "# Compute cross-validation error (MSE)\n",
    "cv_err = -np.mean(cv_results['test_score'])  # negate because score is -MSE\n",
    "cv_err\n"
   ]
  },
  {
   "cell_type": "markdown",
   "id": "59a64363-a2a6-447e-89fa-be8a234fc8ef",
   "metadata": {},
   "source": [
    "## LOOCV for Degrees 1 to 3"
   ]
  },
  {
   "cell_type": "code",
   "execution_count": 26,
   "id": "60219c58-07f2-4338-9fa2-bdb1609f8729",
   "metadata": {},
   "outputs": [
    {
     "name": "stdout",
     "output_type": "stream",
     "text": [
      "Degree 1 CV Error (MSE): 24.2315\n",
      "Degree 2 CV Error (MSE): 19.2482\n",
      "Degree 3 CV Error (MSE): 19.3350\n"
     ]
    }
   ],
   "source": [
    "from sklearn.base import BaseEstimator, RegressorMixin\n",
    "from sklearn.model_selection import cross_validate\n",
    "import statsmodels.api as sm\n",
    "from patsy import dmatrix\n",
    "import numpy as np\n",
    "\n",
    "# Step 1: Define custom sklearn-compatible wrapper for statsmodels.OLS\n",
    "class StatsmodelsOLS(BaseEstimator, RegressorMixin):\n",
    "    def __init__(self, formula):\n",
    "        self.formula = formula\n",
    "\n",
    "    def fit(self, X, y):\n",
    "        X_design = dmatrix(self.formula, X, return_type='dataframe')\n",
    "        self.model_ = sm.OLS(y, X_design).fit()\n",
    "        self.design_info_ = X_design.design_info\n",
    "        return self\n",
    "\n",
    "    def predict(self, X):\n",
    "        X_design = dmatrix(self.design_info_, X, return_type='dataframe')\n",
    "        return self.model_.predict(X_design)\n",
    "\n",
    "    def score(self, X, y):\n",
    "        y_pred = self.predict(X)\n",
    "        return -((y - y_pred) ** 2).mean()  # return negative MSE\n",
    "\n",
    "# Step 2: Prepare the data\n",
    "X = Auto.drop(columns=['mpg'])\n",
    "Y = Auto['mpg']\n",
    "\n",
    "# Step 3: Loop over degrees 1 to 3 and store CV errors\n",
    "cv_errors = []\n",
    "\n",
    "for degree in range(1, 4):\n",
    "    if degree == 1:\n",
    "        formula = \"horsepower\"\n",
    "    else:\n",
    "        formula = \" + \".join([f\"I(horsepower**{d})\" for d in range(1, degree + 1)])\n",
    "    \n",
    "    model = StatsmodelsOLS(formula)\n",
    "    result = cross_validate(model, X, Y, cv=X.shape[0])\n",
    "    cv_err = -np.mean(result['test_score'])  # negate because score is -MSE\n",
    "    cv_errors.append(cv_err)\n",
    "\n",
    "# Step 4: Print or return the results\n",
    "for d, err in enumerate(cv_errors, start=1):\n",
    "    print(f\"Degree {d} CV Error (MSE): {err:.4f}\")\n"
   ]
  },
  {
   "cell_type": "code",
   "execution_count": 28,
   "id": "ff6953bb-3f66-45e9-a7cf-9c098401d26c",
   "metadata": {},
   "outputs": [],
   "source": [
    "import numpy as np\n",
    "import pandas as pd\n",
    "\n",
    "# Replace '?' with np.nan\n",
    "Auto['horsepower'] = Auto['horsepower'].replace('?', np.nan)\n",
    "\n",
    "# Drop rows with NaN in horsepower or mpg\n",
    "Auto_clean = Auto.dropna(subset=['horsepower', 'mpg']).copy()\n",
    "\n",
    "# Convert to float\n",
    "Auto_clean['horsepower'] = Auto_clean['horsepower'].astype(float)\n",
    "Auto_clean['mpg'] = Auto_clean['mpg'].astype(float)\n"
   ]
  },
  {
   "cell_type": "code",
   "execution_count": 29,
   "id": "4c5f2070-b8ff-4f6b-bb90-c0224f1a9818",
   "metadata": {},
   "outputs": [],
   "source": [
    "H = Auto_clean['horsepower'].values\n",
    "Y = Auto_clean['mpg'].values\n"
   ]
  },
  {
   "cell_type": "code",
   "execution_count": 30,
   "id": "b94c096a-f0e4-4d32-b8d6-b1b4ece192b2",
   "metadata": {},
   "outputs": [
    {
     "name": "stdout",
     "output_type": "stream",
     "text": [
      "[24.23151352 19.24821312 19.33498406 19.42443031 19.03321574]\n"
     ]
    }
   ],
   "source": [
    "from sklearn.linear_model import LinearRegression\n",
    "from sklearn.model_selection import cross_validate\n",
    "\n",
    "cv_error = np.zeros(5)\n",
    "for i, d in enumerate(range(1, 6)):\n",
    "    X = np.power.outer(H, np.arange(d + 1))  # polynomial features: [1, H, H², ..., H^d]\n",
    "    model = LinearRegression()\n",
    "    M_CV = cross_validate(model, X, Y, cv=len(Y), scoring='neg_mean_squared_error')\n",
    "    cv_error[i] = -np.mean(M_CV['test_score'])  # negate because scoring is negative MSE\n",
    "\n",
    "print(cv_error)\n"
   ]
  },
  {
   "cell_type": "code",
   "execution_count": 31,
   "id": "0a1d9d57-b8ea-48f8-8886-1b7f379338fa",
   "metadata": {},
   "outputs": [
    {
     "name": "stdout",
     "output_type": "stream",
     "text": [
      "[[ 5  7]\n",
      " [ 7  9]\n",
      " [11 13]]\n"
     ]
    }
   ],
   "source": [
    "import numpy as np\n",
    "\n",
    "A = np.array([3, 5, 9])\n",
    "B = np.array([2, 4])\n",
    "\n",
    "result = np.add.outer(A, B)\n",
    "print(result)\n"
   ]
  },
  {
   "cell_type": "code",
   "execution_count": null,
   "id": "68d6243f-9e96-4b74-b845-8c7f0818790b",
   "metadata": {},
   "outputs": [],
   "source": []
  }
 ],
 "metadata": {
  "kernelspec": {
   "display_name": "Python 3 (ipykernel)",
   "language": "python",
   "name": "python3"
  },
  "language_info": {
   "codemirror_mode": {
    "name": "ipython",
    "version": 3
   },
   "file_extension": ".py",
   "mimetype": "text/x-python",
   "name": "python",
   "nbconvert_exporter": "python",
   "pygments_lexer": "ipython3",
   "version": "3.10.11"
  }
 },
 "nbformat": 4,
 "nbformat_minor": 5
}
